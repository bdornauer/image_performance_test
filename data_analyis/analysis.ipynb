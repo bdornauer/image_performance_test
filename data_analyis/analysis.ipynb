{
 "cells": [
  {
   "cell_type": "markdown",
   "metadata": {
    "collapsed": false
   },
   "source": [
    "# Data anaylsis"
   ]
  },
  {
   "cell_type": "markdown",
   "metadata": {
    "collapsed": false
   },
   "source": [
    "### Importing libraries"
   ]
  },
  {
   "cell_type": "code",
   "execution_count": 1,
   "metadata": {
    "ExecuteTime": {
     "end_time": "2023-08-09T08:02:38.655935Z",
     "start_time": "2023-08-09T08:02:38.646154Z"
    },
    "collapsed": true
   },
   "outputs": [],
   "source": [
    "import pandas as pd\n",
    "import numpy as np\n",
    "import os\n",
    "import glob\n",
    "import matplotlib.pyplot as plt\n",
    "import seaborn as sns\n",
    "from scipy import stats\n",
    "import statsmodels.api as sm\n",
    "from statsmodels.formula.api import ols"
   ]
  },
  {
   "cell_type": "code",
   "execution_count": 2,
   "metadata": {
    "ExecuteTime": {
     "start_time": "2023-08-09T08:02:38.655344Z"
    }
   },
   "outputs": [],
   "source": [
    "colors_image_formats= [\"#F6511D\", \"#3B8EA5\",\"#7FB800\",\"#9e73ff\"]\n",
    "color_browsers = [\"#EE6352\",\"#59CD90\",\"#3fa7d6\",\"#FAC05E\",\"#F79D84\",\"#5e5e5e\"]"
   ]
  },
  {
   "cell_type": "markdown",
   "metadata": {
    "collapsed": false
   },
   "source": [
    "## Aggregate data"
   ]
  },
  {
   "cell_type": "code",
   "execution_count": 3,
   "metadata": {
    "ExecuteTime": {
     "end_time": "2023-08-09T08:02:38.657504Z",
     "start_time": "2023-08-09T08:02:38.656920Z"
    },
    "collapsed": false
   },
   "outputs": [
    {
     "ename": "ParserError",
     "evalue": "Error tokenizing data. C error: Expected 7 fields in line 396, saw 13\n",
     "output_type": "error",
     "traceback": [
      "\u001b[0;31m---------------------------------------------------------------------------\u001b[0m",
      "\u001b[0;31mParserError\u001b[0m                               Traceback (most recent call last)",
      "Cell \u001b[0;32mIn[3], line 6\u001b[0m\n\u001b[1;32m      3\u001b[0m file_list \u001b[39m=\u001b[39m os\u001b[39m.\u001b[39mlistdir(folder_path)\n\u001b[1;32m      4\u001b[0m column_names \u001b[39m=\u001b[39m [\u001b[39m\"\u001b[39m\u001b[39mrun_id\u001b[39m\u001b[39m\"\u001b[39m,\u001b[39m\"\u001b[39m\u001b[39mbrowser\u001b[39m\u001b[39m\"\u001b[39m,\u001b[39m\"\u001b[39m\u001b[39mimage_format\u001b[39m\u001b[39m\"\u001b[39m,\u001b[39m\"\u001b[39m\u001b[39mFCP\u001b[39m\u001b[39m\"\u001b[39m,\u001b[39m\"\u001b[39m\u001b[39mTTFB\u001b[39m\u001b[39m\"\u001b[39m,\u001b[39m\"\u001b[39m\u001b[39mPLT\u001b[39m\u001b[39m\"\u001b[39m,\u001b[39m\"\u001b[39m\u001b[39mfetch_time\u001b[39m\u001b[39m\"\u001b[39m]\n\u001b[0;32m----> 6\u001b[0m df_csv_concat \u001b[39m=\u001b[39m pd\u001b[39m.\u001b[39mconcat([pd\u001b[39m.\u001b[39;49mread_csv(folder_path \u001b[39m+\u001b[39;49m file, names\u001b[39m=\u001b[39;49mcolumn_names) \u001b[39mfor\u001b[39;49;00m file \u001b[39min\u001b[39;49;00m file_list], ignore_index\u001b[39m=\u001b[39m\u001b[39mTrue\u001b[39;00m)\n\u001b[1;32m      7\u001b[0m df_csv_concat \u001b[39m=\u001b[39m df_csv_concat\u001b[39m.\u001b[39msort_values([\u001b[39m\"\u001b[39m\u001b[39mrun_id\u001b[39m\u001b[39m\"\u001b[39m])\n\u001b[1;32m      8\u001b[0m df_csv_concat\u001b[39m.\u001b[39mto_csv(\u001b[39m\"\u001b[39m\u001b[39mcombined_website_performance_data.csv\u001b[39m\u001b[39m\"\u001b[39m,index\u001b[39m=\u001b[39m\u001b[39mFalse\u001b[39;00m)\n",
      "Cell \u001b[0;32mIn[3], line 6\u001b[0m, in \u001b[0;36m<listcomp>\u001b[0;34m(.0)\u001b[0m\n\u001b[1;32m      3\u001b[0m file_list \u001b[39m=\u001b[39m os\u001b[39m.\u001b[39mlistdir(folder_path)\n\u001b[1;32m      4\u001b[0m column_names \u001b[39m=\u001b[39m [\u001b[39m\"\u001b[39m\u001b[39mrun_id\u001b[39m\u001b[39m\"\u001b[39m,\u001b[39m\"\u001b[39m\u001b[39mbrowser\u001b[39m\u001b[39m\"\u001b[39m,\u001b[39m\"\u001b[39m\u001b[39mimage_format\u001b[39m\u001b[39m\"\u001b[39m,\u001b[39m\"\u001b[39m\u001b[39mFCP\u001b[39m\u001b[39m\"\u001b[39m,\u001b[39m\"\u001b[39m\u001b[39mTTFB\u001b[39m\u001b[39m\"\u001b[39m,\u001b[39m\"\u001b[39m\u001b[39mPLT\u001b[39m\u001b[39m\"\u001b[39m,\u001b[39m\"\u001b[39m\u001b[39mfetch_time\u001b[39m\u001b[39m\"\u001b[39m]\n\u001b[0;32m----> 6\u001b[0m df_csv_concat \u001b[39m=\u001b[39m pd\u001b[39m.\u001b[39mconcat([pd\u001b[39m.\u001b[39;49mread_csv(folder_path \u001b[39m+\u001b[39;49m file, names\u001b[39m=\u001b[39;49mcolumn_names) \u001b[39mfor\u001b[39;00m file \u001b[39min\u001b[39;00m file_list], ignore_index\u001b[39m=\u001b[39m\u001b[39mTrue\u001b[39;00m)\n\u001b[1;32m      7\u001b[0m df_csv_concat \u001b[39m=\u001b[39m df_csv_concat\u001b[39m.\u001b[39msort_values([\u001b[39m\"\u001b[39m\u001b[39mrun_id\u001b[39m\u001b[39m\"\u001b[39m])\n\u001b[1;32m      8\u001b[0m df_csv_concat\u001b[39m.\u001b[39mto_csv(\u001b[39m\"\u001b[39m\u001b[39mcombined_website_performance_data.csv\u001b[39m\u001b[39m\"\u001b[39m,index\u001b[39m=\u001b[39m\u001b[39mFalse\u001b[39;00m)\n",
      "File \u001b[0;32m/Library/Frameworks/Python.framework/Versions/3.11/lib/python3.11/site-packages/pandas/io/parsers/readers.py:912\u001b[0m, in \u001b[0;36mread_csv\u001b[0;34m(filepath_or_buffer, sep, delimiter, header, names, index_col, usecols, dtype, engine, converters, true_values, false_values, skipinitialspace, skiprows, skipfooter, nrows, na_values, keep_default_na, na_filter, verbose, skip_blank_lines, parse_dates, infer_datetime_format, keep_date_col, date_parser, date_format, dayfirst, cache_dates, iterator, chunksize, compression, thousands, decimal, lineterminator, quotechar, quoting, doublequote, escapechar, comment, encoding, encoding_errors, dialect, on_bad_lines, delim_whitespace, low_memory, memory_map, float_precision, storage_options, dtype_backend)\u001b[0m\n\u001b[1;32m    899\u001b[0m kwds_defaults \u001b[39m=\u001b[39m _refine_defaults_read(\n\u001b[1;32m    900\u001b[0m     dialect,\n\u001b[1;32m    901\u001b[0m     delimiter,\n\u001b[0;32m   (...)\u001b[0m\n\u001b[1;32m    908\u001b[0m     dtype_backend\u001b[39m=\u001b[39mdtype_backend,\n\u001b[1;32m    909\u001b[0m )\n\u001b[1;32m    910\u001b[0m kwds\u001b[39m.\u001b[39mupdate(kwds_defaults)\n\u001b[0;32m--> 912\u001b[0m \u001b[39mreturn\u001b[39;00m _read(filepath_or_buffer, kwds)\n",
      "File \u001b[0;32m/Library/Frameworks/Python.framework/Versions/3.11/lib/python3.11/site-packages/pandas/io/parsers/readers.py:583\u001b[0m, in \u001b[0;36m_read\u001b[0;34m(filepath_or_buffer, kwds)\u001b[0m\n\u001b[1;32m    580\u001b[0m     \u001b[39mreturn\u001b[39;00m parser\n\u001b[1;32m    582\u001b[0m \u001b[39mwith\u001b[39;00m parser:\n\u001b[0;32m--> 583\u001b[0m     \u001b[39mreturn\u001b[39;00m parser\u001b[39m.\u001b[39;49mread(nrows)\n",
      "File \u001b[0;32m/Library/Frameworks/Python.framework/Versions/3.11/lib/python3.11/site-packages/pandas/io/parsers/readers.py:1704\u001b[0m, in \u001b[0;36mTextFileReader.read\u001b[0;34m(self, nrows)\u001b[0m\n\u001b[1;32m   1697\u001b[0m nrows \u001b[39m=\u001b[39m validate_integer(\u001b[39m\"\u001b[39m\u001b[39mnrows\u001b[39m\u001b[39m\"\u001b[39m, nrows)\n\u001b[1;32m   1698\u001b[0m \u001b[39mtry\u001b[39;00m:\n\u001b[1;32m   1699\u001b[0m     \u001b[39m# error: \"ParserBase\" has no attribute \"read\"\u001b[39;00m\n\u001b[1;32m   1700\u001b[0m     (\n\u001b[1;32m   1701\u001b[0m         index,\n\u001b[1;32m   1702\u001b[0m         columns,\n\u001b[1;32m   1703\u001b[0m         col_dict,\n\u001b[0;32m-> 1704\u001b[0m     ) \u001b[39m=\u001b[39m \u001b[39mself\u001b[39;49m\u001b[39m.\u001b[39;49m_engine\u001b[39m.\u001b[39;49mread(  \u001b[39m# type: ignore[attr-defined]\u001b[39;49;00m\n\u001b[1;32m   1705\u001b[0m         nrows\n\u001b[1;32m   1706\u001b[0m     )\n\u001b[1;32m   1707\u001b[0m \u001b[39mexcept\u001b[39;00m \u001b[39mException\u001b[39;00m:\n\u001b[1;32m   1708\u001b[0m     \u001b[39mself\u001b[39m\u001b[39m.\u001b[39mclose()\n",
      "File \u001b[0;32m/Library/Frameworks/Python.framework/Versions/3.11/lib/python3.11/site-packages/pandas/io/parsers/c_parser_wrapper.py:234\u001b[0m, in \u001b[0;36mCParserWrapper.read\u001b[0;34m(self, nrows)\u001b[0m\n\u001b[1;32m    232\u001b[0m \u001b[39mtry\u001b[39;00m:\n\u001b[1;32m    233\u001b[0m     \u001b[39mif\u001b[39;00m \u001b[39mself\u001b[39m\u001b[39m.\u001b[39mlow_memory:\n\u001b[0;32m--> 234\u001b[0m         chunks \u001b[39m=\u001b[39m \u001b[39mself\u001b[39;49m\u001b[39m.\u001b[39;49m_reader\u001b[39m.\u001b[39;49mread_low_memory(nrows)\n\u001b[1;32m    235\u001b[0m         \u001b[39m# destructive to chunks\u001b[39;00m\n\u001b[1;32m    236\u001b[0m         data \u001b[39m=\u001b[39m _concatenate_chunks(chunks)\n",
      "File \u001b[0;32m/Library/Frameworks/Python.framework/Versions/3.11/lib/python3.11/site-packages/pandas/_libs/parsers.pyx:814\u001b[0m, in \u001b[0;36mpandas._libs.parsers.TextReader.read_low_memory\u001b[0;34m()\u001b[0m\n",
      "File \u001b[0;32m/Library/Frameworks/Python.framework/Versions/3.11/lib/python3.11/site-packages/pandas/_libs/parsers.pyx:875\u001b[0m, in \u001b[0;36mpandas._libs.parsers.TextReader._read_rows\u001b[0;34m()\u001b[0m\n",
      "File \u001b[0;32m/Library/Frameworks/Python.framework/Versions/3.11/lib/python3.11/site-packages/pandas/_libs/parsers.pyx:850\u001b[0m, in \u001b[0;36mpandas._libs.parsers.TextReader._tokenize_rows\u001b[0;34m()\u001b[0m\n",
      "File \u001b[0;32m/Library/Frameworks/Python.framework/Versions/3.11/lib/python3.11/site-packages/pandas/_libs/parsers.pyx:861\u001b[0m, in \u001b[0;36mpandas._libs.parsers.TextReader._check_tokenize_status\u001b[0;34m()\u001b[0m\n",
      "File \u001b[0;32m/Library/Frameworks/Python.framework/Versions/3.11/lib/python3.11/site-packages/pandas/_libs/parsers.pyx:2029\u001b[0m, in \u001b[0;36mpandas._libs.parsers.raise_parser_error\u001b[0;34m()\u001b[0m\n",
      "\u001b[0;31mParserError\u001b[0m: Error tokenizing data. C error: Expected 7 fields in line 396, saw 13\n"
     ]
    }
   ],
   "source": [
    "folder_path = \"./raw_data/websites/\"\n",
    "df_combined = pd.DataFrame()\n",
    "file_list = os.listdir(folder_path)\n",
    "column_names = [\"run_id\",\"browser\",\"image_format\",\"FCP\",\"TTFB\",\"PLT\",\"fetch_time\"]\n",
    "\n",
    "df_csv_concat = pd.concat([pd.read_csv(folder_path + file, names=column_names) for file in file_list], ignore_index=True)\n",
    "df_csv_concat = df_csv_concat.sort_values([\"run_id\"])\n",
    "df_csv_concat.to_csv(\"combined_website_performance_data.csv\",index=False)"
   ]
  },
  {
   "cell_type": "markdown",
   "metadata": {},
   "source": [
    "# Visualization of data"
   ]
  },
  {
   "cell_type": "markdown",
   "metadata": {},
   "source": [
    "### Only images without browsers"
   ]
  },
  {
   "cell_type": "code",
   "execution_count": null,
   "metadata": {
    "ExecuteTime": {
     "start_time": "2023-08-09T08:02:38.658058Z"
    }
   },
   "outputs": [],
   "source": [
    "def visualize_metrix_boxplot_by_image_format(metric):\n",
    "    df = pd.read_csv(\"combined_website_performance_data.csv\")\n",
    "    sns.set(style=\"whitegrid\")\n",
    "    sns.boxplot(data=df, x=\"image_format\", y=metric, palette=color_browsers)\n",
    "    plt.title(\"Page Load Time by Image Format\")\n",
    "    plt.xlabel(\"Image Format\")\n",
    "    plt.ylabel(metric)\n",
    "    plt.savefig(\"plt_by_image_format.png\")\n",
    "    plt.show()\n",
    "    \n",
    "    # print statistics \n",
    "    print(\"Statistics for \" + metric + \" by image format\")\n",
    "    print(df.groupby(\"image_format\")[metric].describe())\n",
    "    "
   ]
  },
  {
   "cell_type": "code",
   "execution_count": null,
   "metadata": {
    "ExecuteTime": {
     "start_time": "2023-08-09T08:02:38.659080Z"
    }
   },
   "outputs": [],
   "source": [
    "visualize_metrix_boxplot_by_image_format(\"PLT\")"
   ]
  },
  {
   "cell_type": "markdown",
   "metadata": {},
   "source": [
    "### Metric Boxplot per Image_format "
   ]
  },
  {
   "cell_type": "code",
   "execution_count": null,
   "metadata": {
    "ExecuteTime": {
     "start_time": "2023-08-09T08:02:38.660396Z"
    }
   },
   "outputs": [],
   "source": [
    "def visualize_metrix_boxplot_by_image_format(metric):\n",
    "    df = pd.read_csv(\"combined_website_performance_data.csv\")\n",
    "    sns.set(style=\"whitegrid\")\n",
    "    sns.boxplot(data=df, x=\"image_format\", y=metric, hue=\"browser\",palette=color_browsers)\n",
    "    plt.title(\"Page Load Time by Image Format\")\n",
    "    plt.xlabel(\"Image Format\")\n",
    "    plt.ylabel(metric)\n",
    "    plt.savefig(\"plt_by_image_format.png\")\n",
    "    plt.show()"
   ]
  },
  {
   "cell_type": "code",
   "execution_count": null,
   "metadata": {
    "ExecuteTime": {
     "start_time": "2023-08-09T08:02:38.661629Z"
    },
    "collapsed": false
   },
   "outputs": [],
   "source": [
    "visualize_metrix_boxplot_by_image_format(\"PLT\")"
   ]
  },
  {
   "cell_type": "markdown",
   "metadata": {},
   "source": [
    "### Boxplot per metric and BROWSER"
   ]
  },
  {
   "cell_type": "code",
   "execution_count": null,
   "metadata": {
    "ExecuteTime": {
     "start_time": "2023-08-09T08:02:38.662854Z"
    }
   },
   "outputs": [],
   "source": [
    "def boxplot_per_metric_and_browser(metric,browser):\n",
    "    df = pd.read_csv(\"combined_website_performance_data.csv\")\n",
    "    df = df[df[\"browser\"]==browser]\n",
    "    sns.set(style=\"whitegrid\")\n",
    "    sns.boxplot(data=df, x=\"image_format\", y=metric, palette=colors_image_formats)\n",
    "    plt.title(\"Page Load Time by Image Format\")\n",
    "    plt.xlabel(\"Image Format\")\n",
    "    plt.ylabel(metric)\n",
    "    plt.savefig(\"plt_by_image_format.png\")\n",
    "    plt.show()"
   ]
  },
  {
   "cell_type": "code",
   "execution_count": null,
   "metadata": {
    "ExecuteTime": {
     "start_time": "2023-08-09T08:02:38.664190Z"
    }
   },
   "outputs": [],
   "source": [
    "boxplot_per_metric_and_browser('PLT', 'chrome')"
   ]
  },
  {
   "cell_type": "markdown",
   "metadata": {},
   "source": [
    "### Boxplot per metric and IMAGE_FORMAT"
   ]
  },
  {
   "cell_type": "code",
   "execution_count": null,
   "metadata": {
    "ExecuteTime": {
     "start_time": "2023-08-09T08:02:38.665263Z"
    }
   },
   "outputs": [],
   "source": [
    "def boxplot_per_metric_and_browser(metric,image_formats):\n",
    "    df = pd.read_csv(\"combined_website_performance_data.csv\")\n",
    "    df = df[df[\"image_format\"].isin(image_formats)]\n",
    "    sns.set(style=\"whitegrid\")\n",
    "    sns.boxplot(data=df, x=\"browser\", y=metric, hue=\"image_format\", palette=\"Set1\")\n",
    "    plt.xlabel(\"Browser\")\n",
    "    plt.ylabel(metric)  \n",
    "    plt.show()"
   ]
  },
  {
   "cell_type": "code",
   "execution_count": null,
   "metadata": {
    "ExecuteTime": {
     "end_time": "2023-08-09T08:02:38.667985Z",
     "start_time": "2023-08-09T08:02:38.666029Z"
    }
   },
   "outputs": [],
   "source": [
    "boxplot_per_metric_and_browser(\"PLT\",[\"jpeg\",\"avif\",\"webp\"])\n",
    "boxplot_per_metric_and_browser(\"PLT\",[\"png\"])"
   ]
  },
  {
   "cell_type": "markdown",
   "metadata": {},
   "source": [
    "## Combine PLT per Browser and Image Format"
   ]
  },
  {
   "cell_type": "code",
   "execution_count": null,
   "metadata": {
    "ExecuteTime": {
     "start_time": "2023-08-09T08:02:38.666753Z"
    }
   },
   "outputs": [],
   "source": [
    "colors_image_formats= [\"#F6511D\", \"#3B8EA5\",\"#9e73ff\",\"#7FB800\"]\n",
    "\n",
    "df = pd.read_csv(\"combined_website_performance_data.csv\")\n",
    "fig, axes = plt.subplots(1, 2, figsize=(10,5), gridspec_kw={'width_ratios': [1, 3]})\n",
    "fig.text(0.5, -0.05, 'Browser', ha='center')\n",
    "\n",
    "sns.set(style=\"whitegrid\")\n",
    "df_left = df[df[\"image_format\"].isin([\"png\"])]\n",
    "ax = sns.boxplot(ax=axes[0], data=df_left, x=\"browser\", y=\"PLT\", palette=colors_image_formats[0:1], hue=\"image_format\",saturation=0.75,)\n",
    "ax.set_ylabel(\"PLT [ms]\")\n",
    "ax.set_xticklabels([\"Opera\", \"Chrome\", \"Firefox\", \"Edge\", \"Brave\",\"Safari\"], rotation=45)\n",
    "ax.set_xlabel(\"\")\n",
    "ax.legend([],[], frameon=False)\n",
    "\n",
    "\n",
    "df_right = df[df[\"image_format\"].isin([\"jpeg\",\"avif\",\"webp\"])]\n",
    "ax2 = sns.boxplot(ax=axes[1], data=df_right, x=\"browser\", y=\"PLT\", hue=\"image_format\", palette=colors_image_formats[1:4],saturation=0.75,)\n",
    "ax2.set_xticklabels([\"Opera\", \"Chrome\", \"Firefox\", \"Edge\", \"Brave\",\"Safari\"], rotation=45)\n",
    "ax2.legend([],[], frameon=False)\n",
    "ax2.set_xlabel(\"\")\n",
    "ax2.set_ylabel(\"\")\n",
    "\n",
    "lines = []\n",
    "labels = []\n",
    "counter = 0\n",
    "\n",
    "for ax in fig.axes:\n",
    "    Line, Label = ax.get_legend_handles_labels()\n",
    "    lines.extend(Line)\n",
    "    labels.extend(Label)\n",
    "  \n",
    "# rotating x-axis labels of last sub-plot\n",
    "plt.xticks(rotation=45)\n",
    "  \n",
    "fig.legend(lines, labels, loc='upper center', ncol=4, fancybox=True)\n",
    "plt.show()\n"
   ]
  },
  {
   "cell_type": "markdown",
   "metadata": {},
   "source": [
    "One-Way-Anova between image formats per Browser"
   ]
  },
  {
   "cell_type": "code",
   "execution_count": null,
   "metadata": {
    "ExecuteTime": {
     "start_time": "2023-08-09T08:02:38.667684Z"
    }
   },
   "outputs": [],
   "source": [
    "# One-Way Anova for one browser and image format\n",
    "metric = \"PLT\"\n",
    "df = pd.read_csv(\"combined_website_performance_data.csv\")\n",
    "size = 60\n",
    "\n",
    "browsers = [\"opera\",\"chrome\",\"firefox\",\"edge_chromium\",\"brave\",\"safari\"]\n",
    "image_formats = [\"png\",\"jpeg\",\"webp\",\"avif\"]\n",
    "\n",
    "for browser in browsers:\n",
    "    df_browser = df[df[\"browser\"] == browser]\n",
    "    png = df_browser[df_browser[\"image_format\"] == \"png\"].sample(n=size, random_state=1)\n",
    "    jpg = df_browser[df_browser[\"image_format\"] == \"jpeg\"]\n",
    "    webp = df_browser[df_browser[\"image_format\"] == \"webp\"]\n",
    "    avif = df_browser[df_browser[\"image_format\"] == \"avif\"]\n",
    "    \n",
    "    print(\"Browser: \", browser)\n",
    "    print(stats.f_oneway(png[metric], jpg[metric], webp[metric], avif[metric]))\n",
    "\n",
    "    # f_oneway returns F-statistic and p-value\n",
    "    print(\"- PNG: \", stats.normaltest(png[metric]))\n",
    "    print(\"- JPG: \", stats.normaltest(jpg[metric]))\n",
    "    print(\"- WEBP: \", stats.normaltest(webp[metric]))\n",
    "    print(\"- AVIF: \", stats.normaltest(avif[metric]))   \n",
    "    # print mean and Q1 and Q3\n",
    "    print(\"-- PNG: (Q1: \", np.quantile(png[metric], 0.25), \", mean: \", np.median(png[metric]), \", Q3: \", np.quantile(png[metric], 0.75), \")\")\n",
    "    print(\"-- JPG: (Q1: \", np.quantile(jpg[metric], 0.25), \", mean: \", np.median(jpg[metric]), \", Q3: \", np.quantile(jpg[metric], 0.75), \")\")\n",
    "    print(\"-- WEBP: (Q1: \", np.quantile(webp[metric], 0.25), \", mean: \", np.median(webp[metric]), \", Q3: \", np.quantile(webp[metric], 0.75), \")\")\n",
    "    print(\"-- AVIF: (Q1: \", np.quantile(avif[metric], 0.25), \", mean: \", np.median(avif[metric]), \", Q3: \", np.quantile(avif[metric], 0.75), \")\")\n",
    "    \n",
    "\n"
   ]
  },
  {
   "cell_type": "markdown",
   "metadata": {},
   "source": [
    "# Two-Way-Anova"
   ]
  },
  {
   "cell_type": "code",
   "execution_count": null,
   "metadata": {
    "ExecuteTime": {
     "start_time": "2023-08-09T08:02:38.668354Z"
    }
   },
   "outputs": [],
   "source": [
    "df = pd.read_csv(\"combined_website_performance_data.csv\")\n",
    "\n",
    "model = ols('PLT ~ C(browser) + C(image_format) + C(browser):C(image_format)', data=df).fit()\n",
    "sm.stats.anova_lm(model, typ=2)\n",
    "\n",
    "# https://www.statology.org/two-way-anova-python/ \n",
    "# Both image_format and browser are significant and not depend "
   ]
  },
  {
   "cell_type": "code",
   "execution_count": null,
   "metadata": {
    "ExecuteTime": {
     "start_time": "2023-08-09T08:02:38.668932Z"
    }
   },
   "outputs": [],
   "source": []
  }
 ],
 "metadata": {
  "kernelspec": {
   "display_name": "Python 3",
   "language": "python",
   "name": "python3"
  },
  "language_info": {
   "codemirror_mode": {
    "name": "ipython",
    "version": 3
   },
   "file_extension": ".py",
   "mimetype": "text/x-python",
   "name": "python",
   "nbconvert_exporter": "python",
   "pygments_lexer": "ipython3",
   "version": "3.11.4"
  }
 },
 "nbformat": 4,
 "nbformat_minor": 0
}
